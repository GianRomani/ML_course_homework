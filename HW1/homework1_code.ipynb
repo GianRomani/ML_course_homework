{
  "nbformat": 4,
  "nbformat_minor": 0,
  "metadata": {
    "colab": {
      "name": "HW1.ipynb",
      "provenance": [],
      "collapsed_sections": []
    },
    "kernelspec": {
      "name": "python3",
      "display_name": "Python 3"
    }
  },
  "cells": [
    {
      "cell_type": "markdown",
      "metadata": {
        "id": "Ci-416-brKdY"
      },
      "source": [
        "<H3>Homework 1 for Machine Learning course: Detection of Malwares</H1>"
      ]
    },
    {
      "cell_type": "code",
      "metadata": {
        "id": "jelDUOuguKyQ"
      },
      "source": [
        "import json\n",
        "import numpy as np\n",
        "import matplotlib.pyplot as plt\n",
        "import seaborn as sns\n",
        "from sklearn import preprocessing\n",
        "from sklearn import model_selection\n",
        "from sklearn.tree import DecisionTreeClassifier\n",
        "from sklearn.model_selection import cross_val_score\n",
        "from sklearn.metrics import mean_squared_error, classification_report, confusion_matrix\n",
        "from sklearn.pipeline import make_pipeline\n",
        "from sklearn.utils.multiclass import unique_labels\n",
        "from sklearn.preprocessing import PolynomialFeatures, StandardScaler\n",
        "from sklearn.svm import SVC\n",
        "from sklearn.ensemble import RandomForestClassifier"
      ],
      "execution_count": 38,
      "outputs": []
    },
    {
      "cell_type": "code",
      "metadata": {
        "id": "3KYhzAC8IgJK"
      },
      "source": [
        "#Print of the dataset after it has been put in an array\n",
        "def print_examples(data, x,y): #x,y num of rows and columns to be printed\n",
        "  for j in range(x):\n",
        "    for i in range(y):\n",
        "      print('X[{},{}]= {}'.format(j,i, data[j,i]), end= ' ')\n",
        "    print('\\n')"
      ],
      "execution_count": 39,
      "outputs": []
    },
    {
      "cell_type": "code",
      "metadata": {
        "id": "YY_HhejdQsFY"
      },
      "source": [
        "#Print and plot consudion matrix. Normalization can be applied by setting `normalize=True\n",
        "def plot_confusion_matrix(y_true, y_pred, classes,\n",
        "                          normalize=False,\n",
        "                          title=None,\n",
        "                          cmap=plt.cm.Blues):\n",
        "   \n",
        "    if not title:\n",
        "        if normalize:\n",
        "            title = 'Normalized confusion matrix'\n",
        "        else:\n",
        "            title = 'Confusion matrix, without normalization'\n",
        "\n",
        "    # Compute confusion matrix\n",
        "    cm = confusion_matrix(y_true, y_pred)\n",
        "    # Only use the labels that appear in the data\n",
        "    classes = classes[unique_labels(y_true, y_pred)]\n",
        "    if normalize:\n",
        "        cm = cm.astype('float') / cm.sum(axis=1)[:, np.newaxis]\n",
        "        #print(\"Normalized confusion matrix\")\n",
        "    else:\n",
        "        pass\n",
        "        #print('Confusion matrix, without normalization')\n",
        "\n",
        "    #print(cm)\n",
        "\n",
        "    fig, ax = plt.subplots()\n",
        "    im = ax.imshow(cm, interpolation='nearest', cmap=cmap)\n",
        "    ax.figure.colorbar(im, ax=ax)\n",
        "    # We want to show all ticks...\n",
        "    ax.set(xticks=np.arange(cm.shape[1]),\n",
        "           yticks=np.arange(cm.shape[0]),\n",
        "           # ... and label them with the respective list entries\n",
        "           xticklabels=classes, yticklabels=classes,\n",
        "           title=title,\n",
        "           ylabel='True label',\n",
        "           xlabel='Predicted label')\n",
        "\n",
        "    ax.set_ylim(len(classes)-0.5, -0.5)\n",
        "\n",
        "    # Rotate the tick labels and set their alignment.\n",
        "    plt.setp(ax.get_xticklabels(), rotation=45, ha=\"right\",\n",
        "             rotation_mode=\"anchor\")\n",
        "\n",
        "    # Loop over data dimensions and create text annotations.\n",
        "    fmt = '.2f' if normalize else 'd'\n",
        "    thresh = cm.max() / 2.\n",
        "    for i in range(cm.shape[0]):\n",
        "        for j in range(cm.shape[1]):\n",
        "            ax.text(j, i, format(cm[i, j], fmt),\n",
        "                    ha=\"center\", va=\"center\",\n",
        "                    color=\"white\" if cm[i, j] > thresh else \"black\")\n",
        "    fig.tight_layout()\n",
        "    fig.savefig('confusion_matrix.png')\n",
        "    return ax"
      ],
      "execution_count": 40,
      "outputs": []
    },
    {
      "cell_type": "code",
      "metadata": {
        "id": "lOJY9kfzY1az"
      },
      "source": [
        "#X[i,:] ->  id, semantic, length, compare, bitwise, if, call, for, shift, arithmetic\n",
        "#Semantic: encryption = 0, string = 1, sorting = 2, math = 3\n",
        "\n",
        "def encoding(string): #Encoding of the possible classes\n",
        "  if string == 'encryption': \n",
        "    return 0\n",
        "  if string == 'string': \n",
        "    return 1\n",
        "  if string == 'sort': \n",
        "    return 2\n",
        "  if string == 'math': \n",
        "    return 3\n",
        "\n",
        "def find_in_asm(asm): #Returns number of occurencies for each feature \n",
        "  length = asm.count(\"',\") + 1\n",
        "  #print(X[i,2])\n",
        "  compare = asm.count(\"cmp\") + asm.count(\"test\")  \n",
        "  xmm = asm.count(\"xmm\") \n",
        "  bitwise = asm.count(\"xor\") + asm.count(\"or\") + asm.count(\"and\")\n",
        "  if_count = 0\n",
        "  for s in ['je','jz','jne','js','jns','jg','jge','jl','ja','jle','jae','jb','jbe']:\n",
        "    if_count += asm.count(s)\n",
        "  call = asm.count(\"call\") + asm.count(\"leave\")\n",
        "  for_count = asm.count(\"jmp\")\n",
        "  shift = asm.count(\"sar\") + asm.count(\"shl\") + asm.count(\"shr\")\n",
        "  arithmetic = asm.count(\"div\") + asm.count(\"imul\") + asm.count(\"inc\") + asm.count(\"dec\") + asm.count(\"neg\") \n",
        "  move = asm.count(\"mov\") + asm.count(\"lea\")\n",
        "  return length, compare, xmm, bitwise, if_count, call, for_count, shift, arithmetic, move\n",
        "\n",
        "#Returns np-array X for dataset with features\n",
        "def take_features(data, mode = 'train'): #mode == train for training phase, mode == blind for blind test\n",
        "  data_len = len(data.readlines())\n",
        "  print('Length of data: {}'.format(data_len))\n",
        "  data.seek(0) #Go at the beginning of the file\n",
        "  if mode == 'train':\n",
        "    X = np.ndarray((data_len,12))\n",
        "  else:\n",
        "    X = np.ndarray((data_len,10))\n",
        "  for i in range(0,data_len):\n",
        "    json_data = json.loads(data.readline())\n",
        "    #print(json_data)\n",
        "    for key in json_data:\n",
        "      if key == 'id' and mode=='train':\n",
        "        X[i,0] = float(json_data[key])\n",
        "        #print(X[i,0])\n",
        "      if key == 'semantic' and mode=='train':\n",
        "        X[i,1] = encoding(json_data[key])\n",
        "        #print(X[i,1])\n",
        "      if key == 'lista_asm' and mode=='train':\n",
        "        X[i,2], X[i,3],X[i,4], X[i,5], X[i,6],X[i,7], X[i,8], X[i,9], X[i,10], X[i,11] = find_in_asm(json_data[key])\n",
        "      elif key == 'lista_asm' and mode=='blind':\n",
        "        X[i,0], X[i,1],X[i,2], X[i,3], X[i,4],X[i,5], X[i,6], X[i,7], X[i,8], X[i,9] = find_in_asm(json_data[key])\n",
        "    '''for elem in range (0,11):\n",
        "      if i%1000 == 0:\n",
        "        print('X[{},{}]= {}'.format(i, elem, X[i,elem]), end= ' ')\n",
        "        print()'''\n",
        "  return X.astype(int)"
      ],
      "execution_count": 41,
      "outputs": []
    },
    {
      "cell_type": "code",
      "metadata": {
        "id": "72pVfabtwYE9"
      },
      "source": [
        "#Split data\n",
        "def split_dataset(data):\n",
        "  labels = data[:,1] #Labels are in second coloumn -> semantic\n",
        "  data_new = np.copy(data)\n",
        "  data_new = np.delete(data_new, 1, 1) #Remove labels from data\n",
        "  data_new = np.delete(data_new, 0, 1)\n",
        "  '''print(\"Old format of dataset:\\n\")\n",
        "  print_examples(data,10,12)\n",
        "  print(\"----------------------------------------------\")\n",
        "  print(\"New format of dataset:\\n\")\n",
        "  print_examples(data_new,10,10)\n",
        "  print(\"----------------------------------------------\")'''\n",
        "  train_set, test_set, labels_train, labels_test = model_selection.train_test_split(data_new, labels,stratify = labels)#test_size=0.3, random_state=42)\n",
        "  #stratify divides dataset in such a way that train and test sets contain equal percentage of each class -> better than test_size and random_state \n",
        "  '''print(\"Training set samples:\\n\")\n",
        "  print_examples(train_set,10,10)\n",
        "  print(\"----------------------------------------------\")\n",
        "  print(\"Test set samples:\\n\")\n",
        "  print_examples(test_set,10,10)'''\n",
        "  print('train_set len: {}, test_set len: {}'.format(len(train_set), len(test_set)))\n",
        "  return train_set, test_set, labels_train, labels_test"
      ],
      "execution_count": 42,
      "outputs": []
    },
    {
      "cell_type": "code",
      "metadata": {
        "id": "rZKsucYZ_AfI"
      },
      "source": [
        "#Scores\n",
        "def display_scores(scores):\n",
        "  print(\"----------------------------------------------\")\n",
        "  print(\"Acc {}\".format(scores))\n",
        "  print(\"Mean {}\".format(scores.mean()))\n",
        "  print(\"Standard deviation {}\".format(scores.std()))\n",
        "  print(\"----------------------------------------------\")"
      ],
      "execution_count": 43,
      "outputs": []
    },
    {
      "cell_type": "markdown",
      "metadata": {
        "id": "niVFuIjpNFTc"
      },
      "source": [
        "<h1>MAIN</h1>"
      ]
    },
    {
      "cell_type": "code",
      "metadata": {
        "id": "S1_xMLXsL2KT",
        "colab": {
          "base_uri": "https://localhost:8080/"
        },
        "outputId": "cb78afc1-51fb-4367-f844-041ef6e5316c"
      },
      "source": [
        "#Main\n",
        "#Importing dataset\n",
        "path = \"/content/drive/My Drive/Machine Learning/HW1/noduplicatedataset.json\"\n",
        "file = open(path, 'r', encoding='utf-8')\n",
        "\n",
        "#Take features\n",
        "data = take_features(file)\n",
        "file.close()"
      ],
      "execution_count": 44,
      "outputs": [
        {
          "output_type": "stream",
          "text": [
            "Length of data: 6073\n"
          ],
          "name": "stdout"
        }
      ]
    },
    {
      "cell_type": "code",
      "metadata": {
        "colab": {
          "base_uri": "https://localhost:8080/"
        },
        "id": "B0jUxtIIDmlh",
        "outputId": "5e4b2608-aac8-4180-b6a4-0f637ccda852"
      },
      "source": [
        "#Split \n",
        "train_set, test_set, labels_train, labels_test = split_dataset(data)"
      ],
      "execution_count": 45,
      "outputs": [
        {
          "output_type": "stream",
          "text": [
            "train_set len: 4554, test_set len: 1519\n"
          ],
          "name": "stdout"
        }
      ]
    },
    {
      "cell_type": "code",
      "metadata": {
        "colab": {
          "base_uri": "https://localhost:8080/",
          "height": 369
        },
        "id": "rnjnMQp3e2Iz",
        "outputId": "b44b5549-151c-4942-dc49-dbbcb3da3601"
      },
      "source": [
        "#Visualize dataset\n",
        "sns_plot = sns.displot(data, x=data[:,1],discrete =True,shrink=0.8) #number of elements per class\n",
        "#sns_plot.savefig(\"duplicates.png\")"
      ],
      "execution_count": 46,
      "outputs": [
        {
          "output_type": "display_data",
          "data": {
            "image/png": "[encoded data removed]",
            "text/plain": [
              "<Figure size 360x360 with 1 Axes>"
            ]
          },
          "metadata": {
            "tags": [],
            "needs_background": "light"
          }
        }
      ]
    },
    {
      "cell_type": "markdown",
      "metadata": {
        "id": "AE-nKkGI27BW"
      },
      "source": [
        "<h5>SMOTE to balance dataset</h5>"
      ]
    },
    {
      "cell_type": "code",
      "metadata": {
        "id": "nYVWlKFMmkTB"
      },
      "source": [
        "#Install imbalance-learn library\n",
        "#Sometimes it is needed to restart the runtime\n",
        "#!pip install -U imbalanced-learn"
      ],
      "execution_count": null,
      "outputs": []
    },
    {
      "cell_type": "code",
      "metadata": {
        "colab": {
          "base_uri": "https://localhost:8080/"
        },
        "id": "9MX8tNz71GER",
        "outputId": "2326b326-8c64-4e8b-8c24-803bac5ba7ea"
      },
      "source": [
        "#This cell uses smote to modify dataset\n",
        "from imblearn.over_sampling import BorderlineSMOTE\n",
        "from imblearn.over_sampling import RandomOverSampler\n",
        "from imblearn.under_sampling import RandomUnderSampler\n",
        "from collections import Counter\n",
        "\n",
        "labels = data[:,1] #Labels are in second coloumn -> semantic\n",
        "data_new = np.copy(data)\n",
        "data_new = np.delete(data_new, 1, 1) #Remove labels from data\n",
        "data_new = np.delete(data_new, 0, 1)\n",
        "\n",
        "#oversample = RandomOverSampler(sampling_strategy='minority')\n",
        "#undersample = RandomUnderSampler(sampling_strategy='not minority')\n",
        "oversample = BorderlineSMOTE()\n",
        "X_over, y_over = oversample.fit_resample(data_new, labels)\n",
        "\n",
        "print(Counter(y_over))\n",
        "\n",
        "train_set, test_set, labels_train, labels_test = model_selection.train_test_split(data_new, labels,stratify = labels)"
      ],
      "execution_count": null,
      "outputs": [
        {
          "output_type": "stream",
          "text": [
            "Counter({1: 2412, 3: 2412, 0: 2412, 2: 2412})\n"
          ],
          "name": "stdout"
        },
        {
          "output_type": "stream",
          "text": [
            "/usr/local/lib/python3.6/dist-packages/sklearn/utils/deprecation.py:87: FutureWarning: Function safe_indexing is deprecated; safe_indexing is deprecated in version 0.22 and will be removed in version 0.24.\n",
            "  warnings.warn(msg, category=FutureWarning)\n",
            "/usr/local/lib/python3.6/dist-packages/sklearn/utils/deprecation.py:87: FutureWarning: Function safe_indexing is deprecated; safe_indexing is deprecated in version 0.22 and will be removed in version 0.24.\n",
            "  warnings.warn(msg, category=FutureWarning)\n",
            "/usr/local/lib/python3.6/dist-packages/sklearn/utils/deprecation.py:87: FutureWarning: Function safe_indexing is deprecated; safe_indexing is deprecated in version 0.22 and will be removed in version 0.24.\n",
            "  warnings.warn(msg, category=FutureWarning)\n",
            "/usr/local/lib/python3.6/dist-packages/sklearn/utils/deprecation.py:87: FutureWarning: Function safe_indexing is deprecated; safe_indexing is deprecated in version 0.22 and will be removed in version 0.24.\n",
            "  warnings.warn(msg, category=FutureWarning)\n",
            "/usr/local/lib/python3.6/dist-packages/sklearn/utils/deprecation.py:87: FutureWarning: Function safe_indexing is deprecated; safe_indexing is deprecated in version 0.22 and will be removed in version 0.24.\n",
            "  warnings.warn(msg, category=FutureWarning)\n",
            "/usr/local/lib/python3.6/dist-packages/sklearn/utils/deprecation.py:87: FutureWarning: Function safe_indexing is deprecated; safe_indexing is deprecated in version 0.22 and will be removed in version 0.24.\n",
            "  warnings.warn(msg, category=FutureWarning)\n",
            "/usr/local/lib/python3.6/dist-packages/sklearn/utils/deprecation.py:87: FutureWarning: Function safe_indexing is deprecated; safe_indexing is deprecated in version 0.22 and will be removed in version 0.24.\n",
            "  warnings.warn(msg, category=FutureWarning)\n"
          ],
          "name": "stderr"
        }
      ]
    },
    {
      "cell_type": "markdown",
      "metadata": {
        "id": "ozwxbUn83M1k"
      },
      "source": [
        "<h1>Training phase</h1>"
      ]
    },
    {
      "cell_type": "code",
      "metadata": {
        "id": "1Ckk6OoF2IB3",
        "colab": {
          "base_uri": "https://localhost:8080/"
        },
        "outputId": "5386a5a2-fa15-4a5a-9c34-f3a175c187a2"
      },
      "source": [
        "#Decision Tree\n",
        "tree_clf = DecisionTreeClassifier(criterion='entropy', class_weight='balanced')\n",
        "scores = tree_clf.fit(train_set, labels_train)\n",
        "scores = cross_val_score(tree_clf, train_set, labels_train, cv=10, scoring =\"accuracy\") #cv standard is 5\n",
        "tree_rmse_scores = np.sqrt(scores)\n",
        "display_scores(tree_rmse_scores)\n",
        "y_pred = tree_clf.predict(test_set)"
      ],
      "execution_count": null,
      "outputs": [
        {
          "output_type": "stream",
          "text": [
            "----------------------------------------------\n",
            "Acc [0.97332853 0.98006444 0.98452945 0.97670229 0.98337834 0.98002018\n",
            " 0.98114085 0.977775   0.97665048 0.98561076]\n",
            "Mean 0.9799200333199529\n",
            "Standard deviation 0.003690600059466077\n",
            "----------------------------------------------\n"
          ],
          "name": "stdout"
        }
      ]
    },
    {
      "cell_type": "code",
      "metadata": {
        "id": "nELNF9_cCRd1",
        "colab": {
          "base_uri": "https://localhost:8080/"
        },
        "outputId": "58232473-a4d9-4311-cc1e-762683459225"
      },
      "source": [
        "#Random Forest\n",
        "forest = RandomForestClassifier(n_estimators=100, criterion='entropy', n_jobs=-1) #parameter n_jobs parallelizes over the trees -> with -1 uses all processors\n",
        "forest.fit(train_set, labels_train)\n",
        "scores = cross_val_score(forest, train_set, labels_train, cv=10, scoring =\"accuracy\") #cv standanrd is 5\n",
        "forest_rmse_scores = np.sqrt(scores)\n",
        "display_scores(forest_rmse_scores)\n",
        "y_pred = forest.predict(test_set)"
      ],
      "execution_count": 51,
      "outputs": [
        {
          "output_type": "stream",
          "text": [
            "----------------------------------------------\n",
            "Acc [0.9889743  0.98229949 0.97894501 0.9811826  0.98783813 0.98894994\n",
            " 0.98783813 0.98449518 0.98783813 0.98337834]\n",
            "Mean 0.9851739266284609\n",
            "Standard deviation 0.003415734066633181\n",
            "----------------------------------------------\n"
          ],
          "name": "stdout"
        }
      ]
    },
    {
      "cell_type": "code",
      "metadata": {
        "id": "arm9DGnVzGFr",
        "colab": {
          "base_uri": "https://localhost:8080/"
        },
        "outputId": "b025cbd5-c008-481c-9686-58e1a6da1446"
      },
      "source": [
        "#SVM\n",
        "svm_clf = make_pipeline(StandardScaler(), SVC(kernel='rbf'))\n",
        "score_svm = svm_clf.fit(train_set, labels_train)\n",
        "scores = cross_val_score(svm_clf, train_set, labels_train, cv=10, scoring =\"accuracy\") #cv standard is 5\n",
        "svm_rmse_scores = np.sqrt(scores)\n",
        "display_scores(svm_rmse_scores)\n",
        "y_pred = svm_clf.predict(test_set)"
      ],
      "execution_count": null,
      "outputs": [
        {
          "output_type": "stream",
          "text": [
            "----------------------------------------------\n",
            "Acc [0.96085671 0.96313632 0.96427411 0.95971487 0.96191202 0.96987594\n",
            " 0.95503294 0.95847865 0.95962447 0.95733146]\n",
            "Mean 0.961023748012783\n",
            "Standard deviation 0.003922723358517773\n",
            "----------------------------------------------\n"
          ],
          "name": "stdout"
        }
      ]
    },
    {
      "cell_type": "markdown",
      "metadata": {
        "id": "j7VPL37r3SOu"
      },
      "source": [
        "<h1>Testing phase</h1>"
      ]
    },
    {
      "cell_type": "code",
      "metadata": {
        "id": "udOjVsOcftOq",
        "colab": {
          "base_uri": "https://localhost:8080/"
        },
        "outputId": "e5c5538d-b354-4ecb-d635-49aa75a7e272"
      },
      "source": [
        "#Check if firsts predictions are ok\n",
        "for i in range(10):\n",
        "  print(\"Prediction {} vs Label {}\".format(y_pred[i], labels_test[i]))"
      ],
      "execution_count": 52,
      "outputs": [
        {
          "output_type": "stream",
          "text": [
            "Prediction 3 vs Label 3\n",
            "Prediction 2 vs Label 2\n",
            "Prediction 1 vs Label 1\n",
            "Prediction 3 vs Label 3\n",
            "Prediction 3 vs Label 3\n",
            "Prediction 1 vs Label 1\n",
            "Prediction 3 vs Label 3\n",
            "Prediction 3 vs Label 3\n",
            "Prediction 3 vs Label 3\n",
            "Prediction 1 vs Label 1\n"
          ],
          "name": "stdout"
        }
      ]
    },
    {
      "cell_type": "code",
      "metadata": {
        "id": "8q344zMMJ8JA",
        "colab": {
          "base_uri": "https://localhost:8080/"
        },
        "outputId": "d28e54d6-6228-4bc2-c069-c57b39bcc4a6"
      },
      "source": [
        "#Precision, recall and F1-score -> F1 is the most important\n",
        "print(classification_report(labels_test, y_pred, labels=None, target_names=['0', '1', '2', '3'], digits=3))"
      ],
      "execution_count": 53,
      "outputs": [
        {
          "output_type": "stream",
          "text": [
            "              precision    recall  f1-score   support\n",
            "\n",
            "           0      0.975     0.975     0.975       278\n",
            "           1      0.973     0.992     0.982       504\n",
            "           2      0.944     0.888     0.915       134\n",
            "           3      0.998     0.995     0.997       603\n",
            "\n",
            "    accuracy                          0.981      1519\n",
            "   macro avg      0.973     0.962     0.967      1519\n",
            "weighted avg      0.981     0.981     0.981      1519\n",
            "\n"
          ],
          "name": "stdout"
        }
      ]
    },
    {
      "cell_type": "code",
      "metadata": {
        "id": "TREgGaN6K6MS",
        "colab": {
          "base_uri": "https://localhost:8080/",
          "height": 382
        },
        "outputId": "3f69e881-dde6-41a0-ca36-ac5dbbc396e3"
      },
      "source": [
        "#Confusion Matrix\n",
        "cm = confusion_matrix(labels_test, y_pred, labels=None, sample_weight=None)\n",
        "print(cm)\n",
        "plot_confusion_matrix(labels_test, y_pred, classes=np.array([\"0\",\"1\",\"2\",\"3\"]), normalize=False)"
      ],
      "execution_count": 54,
      "outputs": [
        {
          "output_type": "stream",
          "text": [
            "[[271   2   4   1]\n",
            " [  2 500   2   0]\n",
            " [  5  10 119   0]\n",
            " [  0   2   1 600]]\n"
          ],
          "name": "stdout"
        },
        {
          "output_type": "execute_result",
          "data": {
            "text/plain": [
              "<matplotlib.axes._subplots.AxesSubplot at 0x7efda50632e8>"
            ]
          },
          "metadata": {
            "tags": []
          },
          "execution_count": 54
        },
        {
          "output_type": "display_data",
          "data": {
            "image/png": "[encoded data removed]",
            "text/plain": [
              "<Figure size 432x288 with 2 Axes>"
            ]
          },
          "metadata": {
            "tags": [],
            "needs_background": "light"
          }
        }
      ]
    },
    {
      "cell_type": "markdown",
      "metadata": {
        "id": "5rz9f7Dbf6WK"
      },
      "source": [
        "<H1>Blind Test</H1>"
      ]
    },
    {
      "cell_type": "code",
      "metadata": {
        "id": "YBWPpecvf-vk",
        "colab": {
          "base_uri": "https://localhost:8080/"
        },
        "outputId": "d008c27a-fb91-4c3b-e974-811397b714d6"
      },
      "source": [
        "#Importing blind set (no duplicates)\n",
        "path = \"/content/drive/MyDrive/Machine Learning/HW1/blindtest.json\"\n",
        "blind_f = open(path, 'r', encoding='utf-8')\n",
        "\n",
        "#Take features\n",
        "blind_data = take_features(blind_f, 'blind')\n",
        "blind_f.close() \n",
        "\n",
        "predictions = forest.predict(blind_data)\n",
        "\n",
        "#Open file to fill with my results\n",
        "blind_results = open(\"/content/drive/My Drive/Machine Learning/HW1/1814407.txt\", 'w', encoding='utf-8')\n",
        "for p in predictions:\n",
        "  res = ''\n",
        "  if p==0:\n",
        "    res = 'encryption\\n'\n",
        "  elif p==1:\n",
        "    res = 'string\\n'\n",
        "  elif p==2:\n",
        "    res = 'sort\\n'\n",
        "  else:\n",
        "    res = 'math\\n'\n",
        "  blind_results.write(res)\n",
        "\n",
        "blind_results.close()"
      ],
      "execution_count": 55,
      "outputs": [
        {
          "output_type": "stream",
          "text": [
            "Length of data: 757\n"
          ],
          "name": "stdout"
        }
      ]
    }
  ]
}